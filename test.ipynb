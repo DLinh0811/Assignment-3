{
 "cells": [
  {
   "cell_type": "code",
   "execution_count": 9,
   "metadata": {},
   "outputs": [
    {
     "name": "stdout",
     "output_type": "stream",
     "text": [
      "[ True False False  True False  True False]\n",
      "[0 1 0]\n",
      "[ True False  True]\n"
     ]
    },
    {
     "data": {
      "text/plain": [
       "0.6666666666666666"
      ]
     },
     "execution_count": 9,
     "metadata": {},
     "output_type": "execute_result"
    }
   ],
   "source": [
    "import numpy as np\n",
    "\n",
    "a = np.array([0, 2, 2, 0, 3, 0, 1])\n",
    "b = np.array([0, 2, 2, 1, 3, 0, 1])\n",
    "\n",
    "print(a==0)\n",
    "print(b[a==0])\n",
    "print(b[a==0]==0)\n",
    "\n",
    "np.mean(b[a==0]==0)"
   ]
  },
  {
   "cell_type": "code",
   "execution_count": 4,
   "metadata": {},
   "outputs": [
    {
     "data": {
      "text/plain": [
       "'J'"
      ]
     },
     "execution_count": 4,
     "metadata": {},
     "output_type": "execute_result"
    }
   ],
   "source": [
    "chr(9 + ord('A'))"
   ]
  },
  {
   "cell_type": "code",
   "execution_count": 1,
   "metadata": {},
   "outputs": [
    {
     "name": "stdout",
     "output_type": "stream",
     "text": [
      "Top Three Values: [6 5 4]\n",
      "Positions in 2D Array:\n",
      "Value: 6 at position: (2, 2)\n",
      "Value: 5 at position: (0, 0)\n",
      "Value: 4 at position: (1, 1)\n"
     ]
    }
   ],
   "source": [
    "import numpy as np\n",
    "\n",
    "# Example 2D array\n",
    "array_2d = np.array([[5, 2, 0],\n",
    "                     [1, 4, 3],\n",
    "                     [0, 1, 6]])\n",
    "\n",
    "# Step 1: Flatten the 2D array into a 1D array\n",
    "flat_array = array_2d.flatten()\n",
    "\n",
    "# Step 2: Get indices of the largest three values\n",
    "# Argsort returns indices that would sort the array. We use -flat_array to sort in descending order.\n",
    "top_indices = np.argsort(-flat_array)[:3]\n",
    "\n",
    "# Step 3: Retrieve the largest three values and their original positions\n",
    "top_values = flat_array[top_indices]\n",
    "top_positions = np.unravel_index(top_indices, array_2d.shape)\n",
    "\n",
    "# Print results\n",
    "print(\"Top Three Values:\", top_values)\n",
    "print(\"Positions in 2D Array:\")\n",
    "for i in range(len(top_values)):\n",
    "    print(f\"Value: {top_values[i]} at position: {top_positions[0][i], top_positions[1][i]}\")\n"
   ]
  }
 ],
 "metadata": {
  "kernelspec": {
   "display_name": "Python 3",
   "language": "python",
   "name": "python3"
  },
  "language_info": {
   "codemirror_mode": {
    "name": "ipython",
    "version": 3
   },
   "file_extension": ".py",
   "mimetype": "text/x-python",
   "name": "python",
   "nbconvert_exporter": "python",
   "pygments_lexer": "ipython3",
   "version": "3.12.4"
  }
 },
 "nbformat": 4,
 "nbformat_minor": 2
}
